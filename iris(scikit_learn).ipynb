{
  "nbformat": 4,
  "nbformat_minor": 0,
  "metadata": {
    "colab": {
      "provenance": []
    },
    "kernelspec": {
      "name": "python3",
      "display_name": "Python 3"
    },
    "language_info": {
      "name": "python"
    }
  },
  "cells": [
    {
      "cell_type": "markdown",
      "source": [
        "## 사이킷런(scikit-learn) 설치"
      ],
      "metadata": {
        "id": "iJ4RQLOv4NOj"
      }
    },
    {
      "cell_type": "code",
      "execution_count": 1,
      "metadata": {
        "colab": {
          "base_uri": "https://localhost:8080/"
        },
        "id": "9_EWlOpk0N2V",
        "outputId": "fefe3536-16c9-48eb-a671-7b6faa67dca3"
      },
      "outputs": [
        {
          "output_type": "stream",
          "name": "stdout",
          "text": [
            "Looking in indexes: https://pypi.org/simple, https://us-python.pkg.dev/colab-wheels/public/simple/\n",
            "Requirement already satisfied: scikit-learn in /usr/local/lib/python3.8/dist-packages (1.0.2)\n",
            "Requirement already satisfied: numpy>=1.14.6 in /usr/local/lib/python3.8/dist-packages (from scikit-learn) (1.21.6)\n",
            "Requirement already satisfied: threadpoolctl>=2.0.0 in /usr/local/lib/python3.8/dist-packages (from scikit-learn) (3.1.0)\n",
            "Requirement already satisfied: joblib>=0.11 in /usr/local/lib/python3.8/dist-packages (from scikit-learn) (1.2.0)\n",
            "Requirement already satisfied: scipy>=1.1.0 in /usr/local/lib/python3.8/dist-packages (from scikit-learn) (1.7.3)\n"
          ]
        }
      ],
      "source": [
        "!pip install scikit-learn"
      ]
    },
    {
      "cell_type": "code",
      "source": [
        "#버전 확인\n",
        "import sklearn\n",
        "\n",
        "print(sklearn.__version__)"
      ],
      "metadata": {
        "colab": {
          "base_uri": "https://localhost:8080/"
        },
        "id": "PVeRuS874M-G",
        "outputId": "36d039eb-0f2a-4243-ed7c-a0eecc987a96"
      },
      "execution_count": 2,
      "outputs": [
        {
          "output_type": "stream",
          "name": "stdout",
          "text": [
            "1.0.2\n"
          ]
        }
      ]
    },
    {
      "cell_type": "markdown",
      "source": [
        "## 붓꽃 분류 모델 만들기"
      ],
      "metadata": {
        "id": "IrP92RdQJqAh"
      }
    },
    {
      "cell_type": "code",
      "source": [
        "#붓꽃데이터 불러오기\n",
        "from sklearn.datasets import load_iris\n",
        "#분류 모델 불러오기\n",
        "from sklearn.tree import DecisionTreeClassifier\n",
        "#데이터셋 분류 라이브러리\n",
        "from sklearn.model_selection import train_test_split"
      ],
      "metadata": {
        "id": "sizEUaNX4rJK"
      },
      "execution_count": 3,
      "outputs": []
    },
    {
      "cell_type": "code",
      "source": [
        "#피처들과 데이터 값을 DataFrame으로 변한하기 위함\n",
        "import pandas as pd\n",
        "\n",
        "#붓꽃 데이터 세트 로딩\n",
        "iris = load_iris()\n",
        "\n",
        "#iris.data는 Iris 데이터 세트에서 피처(Feature)만으로 된 데이터를 numpy로 가지고 있습니다.\n",
        "iris_data = iris.data\n",
        "\n",
        "#iris.target은 붓꽃 데이터 세트에서 레이블(결정 값) 데이터를 numpy로 가지고 있습니다.\n",
        "iris_label = iris.target\n",
        "print(\"iris target 값 :\", iris_label)\n",
        "print(\"iris target 명 :\", iris.target_names)\n",
        "\n",
        "#붓꽃 데이터 세트를 자세히 보기 위해 DataFrame으로 변환합니다.\n",
        "iris_df = pd.DataFrame(data = iris_data, columns = iris.feature_names)\n",
        "iris_df['label'] = iris.target\n",
        "iris_df.head(3)"
      ],
      "metadata": {
        "colab": {
          "base_uri": "https://localhost:8080/",
          "height": 253
        },
        "id": "dX10gMYo6ye2",
        "outputId": "9ca25156-fd61-4a71-e137-e5373c9c7803"
      },
      "execution_count": 5,
      "outputs": [
        {
          "output_type": "stream",
          "name": "stdout",
          "text": [
            "iris target 값 : [0 0 0 0 0 0 0 0 0 0 0 0 0 0 0 0 0 0 0 0 0 0 0 0 0 0 0 0 0 0 0 0 0 0 0 0 0\n",
            " 0 0 0 0 0 0 0 0 0 0 0 0 0 1 1 1 1 1 1 1 1 1 1 1 1 1 1 1 1 1 1 1 1 1 1 1 1\n",
            " 1 1 1 1 1 1 1 1 1 1 1 1 1 1 1 1 1 1 1 1 1 1 1 1 1 1 2 2 2 2 2 2 2 2 2 2 2\n",
            " 2 2 2 2 2 2 2 2 2 2 2 2 2 2 2 2 2 2 2 2 2 2 2 2 2 2 2 2 2 2 2 2 2 2 2 2 2\n",
            " 2 2]\n",
            "iris target 명 : ['setosa' 'versicolor' 'virginica']\n"
          ]
        },
        {
          "output_type": "execute_result",
          "data": {
            "text/plain": [
              "   sepal length (cm)  sepal width (cm)  petal length (cm)  petal width (cm)  \\\n",
              "0                5.1               3.5                1.4               0.2   \n",
              "1                4.9               3.0                1.4               0.2   \n",
              "2                4.7               3.2                1.3               0.2   \n",
              "\n",
              "   label  \n",
              "0      0  \n",
              "1      0  \n",
              "2      0  "
            ],
            "text/html": [
              "\n",
              "  <div id=\"df-943d1d03-1af8-42a3-8d72-8593b5ab7ecb\">\n",
              "    <div class=\"colab-df-container\">\n",
              "      <div>\n",
              "<style scoped>\n",
              "    .dataframe tbody tr th:only-of-type {\n",
              "        vertical-align: middle;\n",
              "    }\n",
              "\n",
              "    .dataframe tbody tr th {\n",
              "        vertical-align: top;\n",
              "    }\n",
              "\n",
              "    .dataframe thead th {\n",
              "        text-align: right;\n",
              "    }\n",
              "</style>\n",
              "<table border=\"1\" class=\"dataframe\">\n",
              "  <thead>\n",
              "    <tr style=\"text-align: right;\">\n",
              "      <th></th>\n",
              "      <th>sepal length (cm)</th>\n",
              "      <th>sepal width (cm)</th>\n",
              "      <th>petal length (cm)</th>\n",
              "      <th>petal width (cm)</th>\n",
              "      <th>label</th>\n",
              "    </tr>\n",
              "  </thead>\n",
              "  <tbody>\n",
              "    <tr>\n",
              "      <th>0</th>\n",
              "      <td>5.1</td>\n",
              "      <td>3.5</td>\n",
              "      <td>1.4</td>\n",
              "      <td>0.2</td>\n",
              "      <td>0</td>\n",
              "    </tr>\n",
              "    <tr>\n",
              "      <th>1</th>\n",
              "      <td>4.9</td>\n",
              "      <td>3.0</td>\n",
              "      <td>1.4</td>\n",
              "      <td>0.2</td>\n",
              "      <td>0</td>\n",
              "    </tr>\n",
              "    <tr>\n",
              "      <th>2</th>\n",
              "      <td>4.7</td>\n",
              "      <td>3.2</td>\n",
              "      <td>1.3</td>\n",
              "      <td>0.2</td>\n",
              "      <td>0</td>\n",
              "    </tr>\n",
              "  </tbody>\n",
              "</table>\n",
              "</div>\n",
              "      <button class=\"colab-df-convert\" onclick=\"convertToInteractive('df-943d1d03-1af8-42a3-8d72-8593b5ab7ecb')\"\n",
              "              title=\"Convert this dataframe to an interactive table.\"\n",
              "              style=\"display:none;\">\n",
              "        \n",
              "  <svg xmlns=\"http://www.w3.org/2000/svg\" height=\"24px\"viewBox=\"0 0 24 24\"\n",
              "       width=\"24px\">\n",
              "    <path d=\"M0 0h24v24H0V0z\" fill=\"none\"/>\n",
              "    <path d=\"M18.56 5.44l.94 2.06.94-2.06 2.06-.94-2.06-.94-.94-2.06-.94 2.06-2.06.94zm-11 1L8.5 8.5l.94-2.06 2.06-.94-2.06-.94L8.5 2.5l-.94 2.06-2.06.94zm10 10l.94 2.06.94-2.06 2.06-.94-2.06-.94-.94-2.06-.94 2.06-2.06.94z\"/><path d=\"M17.41 7.96l-1.37-1.37c-.4-.4-.92-.59-1.43-.59-.52 0-1.04.2-1.43.59L10.3 9.45l-7.72 7.72c-.78.78-.78 2.05 0 2.83L4 21.41c.39.39.9.59 1.41.59.51 0 1.02-.2 1.41-.59l7.78-7.78 2.81-2.81c.8-.78.8-2.07 0-2.86zM5.41 20L4 18.59l7.72-7.72 1.47 1.35L5.41 20z\"/>\n",
              "  </svg>\n",
              "      </button>\n",
              "      \n",
              "  <style>\n",
              "    .colab-df-container {\n",
              "      display:flex;\n",
              "      flex-wrap:wrap;\n",
              "      gap: 12px;\n",
              "    }\n",
              "\n",
              "    .colab-df-convert {\n",
              "      background-color: #E8F0FE;\n",
              "      border: none;\n",
              "      border-radius: 50%;\n",
              "      cursor: pointer;\n",
              "      display: none;\n",
              "      fill: #1967D2;\n",
              "      height: 32px;\n",
              "      padding: 0 0 0 0;\n",
              "      width: 32px;\n",
              "    }\n",
              "\n",
              "    .colab-df-convert:hover {\n",
              "      background-color: #E2EBFA;\n",
              "      box-shadow: 0px 1px 2px rgba(60, 64, 67, 0.3), 0px 1px 3px 1px rgba(60, 64, 67, 0.15);\n",
              "      fill: #174EA6;\n",
              "    }\n",
              "\n",
              "    [theme=dark] .colab-df-convert {\n",
              "      background-color: #3B4455;\n",
              "      fill: #D2E3FC;\n",
              "    }\n",
              "\n",
              "    [theme=dark] .colab-df-convert:hover {\n",
              "      background-color: #434B5C;\n",
              "      box-shadow: 0px 1px 3px 1px rgba(0, 0, 0, 0.15);\n",
              "      filter: drop-shadow(0px 1px 2px rgba(0, 0, 0, 0.3));\n",
              "      fill: #FFFFFF;\n",
              "    }\n",
              "  </style>\n",
              "\n",
              "      <script>\n",
              "        const buttonEl =\n",
              "          document.querySelector('#df-943d1d03-1af8-42a3-8d72-8593b5ab7ecb button.colab-df-convert');\n",
              "        buttonEl.style.display =\n",
              "          google.colab.kernel.accessAllowed ? 'block' : 'none';\n",
              "\n",
              "        async function convertToInteractive(key) {\n",
              "          const element = document.querySelector('#df-943d1d03-1af8-42a3-8d72-8593b5ab7ecb');\n",
              "          const dataTable =\n",
              "            await google.colab.kernel.invokeFunction('convertToInteractive',\n",
              "                                                     [key], {});\n",
              "          if (!dataTable) return;\n",
              "\n",
              "          const docLinkHtml = 'Like what you see? Visit the ' +\n",
              "            '<a target=\"_blank\" href=https://colab.research.google.com/notebooks/data_table.ipynb>data table notebook</a>'\n",
              "            + ' to learn more about interactive tables.';\n",
              "          element.innerHTML = '';\n",
              "          dataTable['output_type'] = 'display_data';\n",
              "          await google.colab.output.renderOutput(dataTable, element);\n",
              "          const docLink = document.createElement('div');\n",
              "          docLink.innerHTML = docLinkHtml;\n",
              "          element.appendChild(docLink);\n",
              "        }\n",
              "      </script>\n",
              "    </div>\n",
              "  </div>\n",
              "  "
            ]
          },
          "metadata": {},
          "execution_count": 5
        }
      ]
    },
    {
      "cell_type": "code",
      "source": [
        "#데이터를 학습, 테스트로 나누어 줍니다.\n",
        "X_train, X_test, y_train, y_test = train_test_split(iris_data, iris_label, test_size = 0.2, random_state = 11)"
      ],
      "metadata": {
        "id": "pS1r5e2U_qqX"
      },
      "execution_count": 6,
      "outputs": []
    },
    {
      "cell_type": "code",
      "source": [
        "print(X_train)\n",
        "print(X_test)\n",
        "print(y_train)\n",
        "print(y_test)"
      ],
      "metadata": {
        "colab": {
          "base_uri": "https://localhost:8080/"
        },
        "id": "qiPP-DsRBEbH",
        "outputId": "f27b1747-603f-4e9f-d661-4723d31eca47"
      },
      "execution_count": 7,
      "outputs": [
        {
          "output_type": "stream",
          "name": "stdout",
          "text": [
            "[[5.1 3.5 1.4 0.2]\n",
            " [6.9 3.2 5.7 2.3]\n",
            " [7.7 2.8 6.7 2. ]\n",
            " [5.  3.3 1.4 0.2]\n",
            " [4.7 3.2 1.6 0.2]\n",
            " [7.7 2.6 6.9 2.3]\n",
            " [7.6 3.  6.6 2.1]\n",
            " [6.7 3.  5.  1.7]\n",
            " [5.5 3.5 1.3 0.2]\n",
            " [6.  2.7 5.1 1.6]\n",
            " [5.  2.  3.5 1. ]\n",
            " [7.9 3.8 6.4 2. ]\n",
            " [4.6 3.4 1.4 0.3]\n",
            " [6.9 3.1 4.9 1.5]\n",
            " [6.5 3.  5.8 2.2]\n",
            " [5.1 2.5 3.  1.1]\n",
            " [6.6 2.9 4.6 1.3]\n",
            " [5.  3.2 1.2 0.2]\n",
            " [7.4 2.8 6.1 1.9]\n",
            " [5.1 3.8 1.6 0.2]\n",
            " [6.8 3.2 5.9 2.3]\n",
            " [6.9 3.1 5.1 2.3]\n",
            " [5.9 3.  4.2 1.5]\n",
            " [4.9 2.5 4.5 1.7]\n",
            " [6.7 3.1 4.7 1.5]\n",
            " [4.4 3.2 1.3 0.2]\n",
            " [5.4 3.4 1.7 0.2]\n",
            " [6.5 2.8 4.6 1.5]\n",
            " [5.1 3.7 1.5 0.4]\n",
            " [5.  3.4 1.6 0.4]\n",
            " [6.1 2.6 5.6 1.4]\n",
            " [6.5 3.  5.5 1.8]\n",
            " [6.3 2.5 5.  1.9]\n",
            " [5.2 3.4 1.4 0.2]\n",
            " [5.  3.6 1.4 0.2]\n",
            " [5.4 3.4 1.5 0.4]\n",
            " [6.1 2.8 4.7 1.2]\n",
            " [5.1 3.4 1.5 0.2]\n",
            " [5.6 3.  4.1 1.3]\n",
            " [6.3 2.7 4.9 1.8]\n",
            " [7.1 3.  5.9 2.1]\n",
            " [5.5 2.6 4.4 1.2]\n",
            " [5.  2.3 3.3 1. ]\n",
            " [6.3 3.4 5.6 2.4]\n",
            " [5.8 2.7 5.1 1.9]\n",
            " [5.5 4.2 1.4 0.2]\n",
            " [5.6 2.7 4.2 1.3]\n",
            " [6.2 2.9 4.3 1.3]\n",
            " [6.7 2.5 5.8 1.8]\n",
            " [6.1 3.  4.9 1.8]\n",
            " [6.7 3.1 5.6 2.4]\n",
            " [4.6 3.2 1.4 0.2]\n",
            " [7.7 3.8 6.7 2.2]\n",
            " [5.3 3.7 1.5 0.2]\n",
            " [5.7 3.8 1.7 0.3]\n",
            " [5.  3.5 1.6 0.6]\n",
            " [5.1 3.5 1.4 0.3]\n",
            " [6.3 3.3 6.  2.5]\n",
            " [4.4 3.  1.3 0.2]\n",
            " [5.  3.  1.6 0.2]\n",
            " [5.1 3.8 1.5 0.3]\n",
            " [6.  2.9 4.5 1.5]\n",
            " [5.2 4.1 1.5 0.1]\n",
            " [6.3 2.5 4.9 1.5]\n",
            " [6.2 2.2 4.5 1.5]\n",
            " [6.4 3.1 5.5 1.8]\n",
            " [6.3 2.3 4.4 1.3]\n",
            " [4.4 2.9 1.4 0.2]\n",
            " [4.6 3.1 1.5 0.2]\n",
            " [4.9 3.  1.4 0.2]\n",
            " [5.2 2.7 3.9 1.4]\n",
            " [5.7 2.8 4.1 1.3]\n",
            " [7.  3.2 4.7 1.4]\n",
            " [6.7 3.3 5.7 2.5]\n",
            " [5.5 2.3 4.  1.3]\n",
            " [5.4 3.9 1.7 0.4]\n",
            " [5.7 3.  4.2 1.2]\n",
            " [6.4 3.2 5.3 2.3]\n",
            " [5.  3.5 1.3 0.3]\n",
            " [6.2 2.8 4.8 1.8]\n",
            " [6.7 3.3 5.7 2.1]\n",
            " [5.7 2.8 4.5 1.3]\n",
            " [5.  3.4 1.5 0.2]\n",
            " [5.8 4.  1.2 0.2]\n",
            " [5.1 3.8 1.9 0.4]\n",
            " [5.6 2.8 4.9 2. ]\n",
            " [4.9 2.4 3.3 1. ]\n",
            " [5.4 3.7 1.5 0.2]\n",
            " [7.3 2.9 6.3 1.8]\n",
            " [5.5 2.5 4.  1.3]\n",
            " [7.7 3.  6.1 2.3]\n",
            " [5.2 3.5 1.5 0.2]\n",
            " [5.1 3.3 1.7 0.5]\n",
            " [5.7 2.9 4.2 1.3]\n",
            " [5.7 2.6 3.5 1. ]\n",
            " [6.  3.  4.8 1.8]\n",
            " [5.6 2.9 3.6 1.3]\n",
            " [6.4 2.8 5.6 2.1]\n",
            " [5.8 2.8 5.1 2.4]\n",
            " [5.9 3.2 4.8 1.8]\n",
            " [5.8 2.7 4.1 1. ]\n",
            " [6.2 3.4 5.4 2.3]\n",
            " [6.5 3.  5.2 2. ]\n",
            " [4.9 3.6 1.4 0.1]\n",
            " [6.4 2.9 4.3 1.3]\n",
            " [7.2 3.  5.8 1.6]\n",
            " [4.9 3.1 1.5 0.2]\n",
            " [6.4 2.8 5.6 2.2]\n",
            " [7.2 3.2 6.  1.8]\n",
            " [4.8 3.  1.4 0.3]\n",
            " [5.8 2.6 4.  1.2]\n",
            " [7.2 3.6 6.1 2.5]\n",
            " [4.8 3.4 1.9 0.2]\n",
            " [5.8 2.7 3.9 1.2]\n",
            " [6.1 2.8 4.  1.3]\n",
            " [6.8 2.8 4.8 1.4]\n",
            " [4.3 3.  1.1 0.1]\n",
            " [5.5 2.4 3.7 1. ]\n",
            " [6.1 3.  4.6 1.4]\n",
            " [5.5 2.4 3.8 1.1]]\n",
            "[[6.8 3.  5.5 2.1]\n",
            " [6.7 3.  5.2 2.3]\n",
            " [6.3 2.8 5.1 1.5]\n",
            " [6.3 3.3 4.7 1.6]\n",
            " [6.4 2.7 5.3 1.9]\n",
            " [4.9 3.1 1.5 0.1]\n",
            " [6.7 3.1 4.4 1.4]\n",
            " [5.7 4.4 1.5 0.4]\n",
            " [4.8 3.1 1.6 0.2]\n",
            " [6.1 2.9 4.7 1.4]\n",
            " [6.  2.2 5.  1.5]\n",
            " [6.  2.2 4.  1. ]\n",
            " [5.4 3.  4.5 1.5]\n",
            " [5.7 2.5 5.  2. ]\n",
            " [6.9 3.1 5.4 2.1]\n",
            " [4.5 2.3 1.3 0.3]\n",
            " [6.3 2.9 5.6 1.8]\n",
            " [5.6 3.  4.5 1.5]\n",
            " [6.5 3.2 5.1 2. ]\n",
            " [5.8 2.7 5.1 1.9]\n",
            " [5.6 2.5 3.9 1.1]\n",
            " [4.7 3.2 1.3 0.2]\n",
            " [4.6 3.6 1.  0.2]\n",
            " [6.4 3.2 4.5 1.5]\n",
            " [4.8 3.  1.4 0.1]\n",
            " [4.8 3.4 1.6 0.2]\n",
            " [5.9 3.  5.1 1.8]\n",
            " [6.6 3.  4.4 1.4]\n",
            " [5.4 3.9 1.3 0.4]\n",
            " [6.  3.4 4.5 1.6]]\n",
            "[0 2 2 0 0 2 2 1 0 1 1 2 0 1 2 1 1 0 2 0 2 2 1 2 1 0 0 1 0 0 2 2 2 0 0 0 1\n",
            " 0 1 2 2 1 1 2 2 0 1 1 2 2 2 0 2 0 0 0 0 2 0 0 0 1 0 1 1 2 1 0 0 0 1 1 1 2\n",
            " 1 0 1 2 0 2 2 1 0 0 0 2 1 0 2 1 2 0 0 1 1 2 1 2 2 1 1 2 2 0 1 2 0 2 2 0 1\n",
            " 2 0 1 1 1 0 1 1 1]\n",
            "[2 2 2 1 2 0 1 0 0 1 2 1 1 2 2 0 2 1 2 2 1 0 0 1 0 0 2 1 0 1]\n"
          ]
        }
      ]
    },
    {
      "cell_type": "markdown",
      "source": [
        "##학습 및 결과 예측"
      ],
      "metadata": {
        "id": "uySwGtu4Jt11"
      }
    },
    {
      "cell_type": "code",
      "source": [
        "#DecisionTreeClassifier 객체 생성\n",
        "dt_clf = DecisionTreeClassifier(random_state = 11)\n",
        "\n",
        "#학습 수행\n",
        "dt_clf.fit(X_train, y_train)\n",
        "\n",
        "#학습이 완료된 DecisionTreeClassifier 객체에서 테스트 데이터 세트로 예측 수행\n",
        "pred = dt_clf.predict(X_test)\n",
        "\n",
        "#실제 정확도 측정\n",
        "from sklearn.metrics import accuracy_score\n",
        "print('예측 정확도 : %.4f' %accuracy_score(y_test, pred))"
      ],
      "metadata": {
        "colab": {
          "base_uri": "https://localhost:8080/"
        },
        "id": "rCPaiHIoBOmR",
        "outputId": "81c9bfdd-80ef-410c-94d4-d73e2ba948b0"
      },
      "execution_count": 9,
      "outputs": [
        {
          "output_type": "stream",
          "name": "stdout",
          "text": [
            "예측 정확도 : 0.9333\n"
          ]
        }
      ]
    }
  ]
}